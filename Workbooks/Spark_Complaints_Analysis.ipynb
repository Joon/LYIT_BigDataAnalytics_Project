{
 "cells": [
  {
   "cell_type": "code",
   "execution_count": 1,
   "metadata": {},
   "outputs": [
    {
     "data": {
      "application/vnd.jupyter.widget-view+json": {
       "model_id": "79b844ca98614d6d9732e974de031778",
       "version_major": 2,
       "version_minor": 0
      },
      "text/plain": [
       "VBox()"
      ]
     },
     "metadata": {},
     "output_type": "display_data"
    },
    {
     "name": "stdout",
     "output_type": "stream",
     "text": [
      "Starting Spark application\n"
     ]
    },
    {
     "data": {
      "text/html": [
       "<table>\n",
       "<tr><th>ID</th><th>YARN Application ID</th><th>Kind</th><th>State</th><th>Spark UI</th><th>Driver log</th><th>Current session?</th></tr><tr><td>0</td><td>application_1580051229973_0001</td><td>pyspark</td><td>idle</td><td><a target=\"_blank\" href=\"http://ip-172-31-35-22.ec2.internal:20888/proxy/application_1580051229973_0001/\">Link</a></td><td><a target=\"_blank\" href=\"http://ip-172-31-42-75.ec2.internal:8042/node/containerlogs/container_1580051229973_0001_01_000001/livy\">Link</a></td><td>✔</td></tr></table>"
      ],
      "text/plain": [
       "<IPython.core.display.HTML object>"
      ]
     },
     "metadata": {},
     "output_type": "display_data"
    },
    {
     "data": {
      "application/vnd.jupyter.widget-view+json": {
       "model_id": "",
       "version_major": 2,
       "version_minor": 0
      },
      "text/plain": [
       "FloatProgress(value=0.0, bar_style='info', description='Progress:', layout=Layout(height='25px', width='50%'),…"
      ]
     },
     "metadata": {},
     "output_type": "display_data"
    },
    {
     "name": "stdout",
     "output_type": "stream",
     "text": [
      "SparkSession available as 'spark'.\n"
     ]
    },
    {
     "data": {
      "application/vnd.jupyter.widget-view+json": {
       "model_id": "",
       "version_major": 2,
       "version_minor": 0
      },
      "text/plain": [
       "FloatProgress(value=0.0, bar_style='info', description='Progress:', layout=Layout(height='25px', width='50%'),…"
      ]
     },
     "metadata": {},
     "output_type": "display_data"
    }
   ],
   "source": [
    "from pyspark.sql import functions as F"
   ]
  },
  {
   "cell_type": "code",
   "execution_count": 2,
   "metadata": {},
   "outputs": [
    {
     "data": {
      "application/vnd.jupyter.widget-view+json": {
       "model_id": "b3c3a0b095ee408199bd0e0e09b87ff3",
       "version_major": 2,
       "version_minor": 0
      },
      "text/plain": [
       "VBox()"
      ]
     },
     "metadata": {},
     "output_type": "display_data"
    },
    {
     "data": {
      "application/vnd.jupyter.widget-view+json": {
       "model_id": "",
       "version_major": 2,
       "version_minor": 0
      },
      "text/plain": [
       "FloatProgress(value=0.0, bar_style='info', description='Progress:', layout=Layout(height='25px', width='50%'),…"
      ]
     },
     "metadata": {},
     "output_type": "display_data"
    }
   ],
   "source": [
    "from pyspark import SparkContext\n",
    "from pyspark.sql import SQLContext"
   ]
  },
  {
   "cell_type": "code",
   "execution_count": 3,
   "metadata": {},
   "outputs": [
    {
     "data": {
      "application/vnd.jupyter.widget-view+json": {
       "model_id": "240667436bea477abc2276f2a91e0497",
       "version_major": 2,
       "version_minor": 0
      },
      "text/plain": [
       "VBox()"
      ]
     },
     "metadata": {},
     "output_type": "display_data"
    },
    {
     "data": {
      "application/vnd.jupyter.widget-view+json": {
       "model_id": "",
       "version_major": 2,
       "version_minor": 0
      },
      "text/plain": [
       "FloatProgress(value=0.0, bar_style='info', description='Progress:', layout=Layout(height='25px', width='50%'),…"
      ]
     },
     "metadata": {},
     "output_type": "display_data"
    },
    {
     "name": "stdout",
     "output_type": "stream",
     "text": [
      "+------------------+------------------+\n",
      "|min(Date received)|max(Date received)|\n",
      "+------------------+------------------+\n",
      "|        01/01/2012|        12/31/2018|\n",
      "+------------------+------------------+\n",
      "\n",
      "+--------------------+\n",
      "|             Product|\n",
      "+--------------------+\n",
      "|     Debt collection|\n",
      "|    Virtual currency|\n",
      "|         Payday loan|\n",
      "|     Money transfers|\n",
      "|Money transfer, v...|\n",
      "|Checking or savin...|\n",
      "|            Mortgage|\n",
      "|        Prepaid card|\n",
      "|Credit card or pr...|\n",
      "|    Credit reporting|\n",
      "|       Consumer Loan|\n",
      "|Credit reporting,...|\n",
      "|         Credit card|\n",
      "|Bank account or s...|\n",
      "|Vehicle loan or l...|\n",
      "|Other financial s...|\n",
      "|        Student loan|\n",
      "|Payday loan, titl...|\n",
      "+--------------------+"
     ]
    }
   ],
   "source": [
    "input_bucket = 's3://joonbigdataanalytics'\n",
    "complaint_input_path = '/Data/Customer_Complaints.json'\n",
    "\n",
    "customer_complaints = spark.read.json(input_bucket + complaint_input_path)\n",
    "\n",
    "# Show some basic information aggregated across the complaints dataset to validate the data has loaded correctly\n",
    "# Show date ranges\n",
    "customer_complaints.agg(F.min(\"Date received\"), F.max(\"Date received\")).show()\n",
    "# Show product types\n",
    "customer_complaints.select(\"Product\").distinct().show()\n"
   ]
  },
  {
   "cell_type": "code",
   "execution_count": 4,
   "metadata": {},
   "outputs": [
    {
     "data": {
      "application/vnd.jupyter.widget-view+json": {
       "model_id": "ddf535193ba143dda01af193d4a441c9",
       "version_major": 2,
       "version_minor": 0
      },
      "text/plain": [
       "VBox()"
      ]
     },
     "metadata": {},
     "output_type": "display_data"
    },
    {
     "data": {
      "application/vnd.jupyter.widget-view+json": {
       "model_id": "",
       "version_major": 2,
       "version_minor": 0
      },
      "text/plain": [
       "FloatProgress(value=0.0, bar_style='info', description='Progress:', layout=Layout(height='25px', width='50%'),…"
      ]
     },
     "metadata": {},
     "output_type": "display_data"
    },
    {
     "name": "stdout",
     "output_type": "stream",
     "text": [
      "+-------------+-------------+\n",
      "|min(Timezone)|max(Timezone)|\n",
      "+-------------+-------------+\n",
      "|          -10|           -4|\n",
      "+-------------+-------------+"
     ]
    }
   ],
   "source": [
    "zip_geo_input_path = '/Data/us-zip-code-latitude-and-longitude.csv'\n",
    "zip_geo = spark.read.csv(input_bucket + zip_geo_input_path, header = True, multiLine=True, inferSchema=True, sep=\";\")\n",
    "\n",
    "zip_geo.agg(F.min(\"Timezone\"), F.max(\"Timezone\")).show()"
   ]
  },
  {
   "cell_type": "code",
   "execution_count": 5,
   "metadata": {},
   "outputs": [
    {
     "data": {
      "application/vnd.jupyter.widget-view+json": {
       "model_id": "e99ea1cc22d74881b2708c79abd5d1dd",
       "version_major": 2,
       "version_minor": 0
      },
      "text/plain": [
       "VBox()"
      ]
     },
     "metadata": {},
     "output_type": "display_data"
    },
    {
     "data": {
      "application/vnd.jupyter.widget-view+json": {
       "model_id": "",
       "version_major": 2,
       "version_minor": 0
      },
      "text/plain": [
       "FloatProgress(value=0.0, bar_style='info', description='Progress:', layout=Layout(height='25px', width='50%'),…"
      ]
     },
     "metadata": {},
     "output_type": "display_data"
    },
    {
     "name": "stdout",
     "output_type": "stream",
     "text": [
      "+-------+---------+\n",
      "|min(N1)|  max(N1)|\n",
      "+-------+---------+\n",
      "|    0.0|6231480.0|\n",
      "+-------+---------+"
     ]
    }
   ],
   "source": [
    "tax_data_input_path = '/Data/15zpallagi.csv'\n",
    "tax_data = spark.read.csv(input_bucket + tax_data_input_path, header = True, multiLine=True, inferSchema=True)\n",
    "\n",
    "tax_data.agg(F.min(\"N1\"), F.max(\"N1\")).show()"
   ]
  },
  {
   "cell_type": "code",
   "execution_count": 6,
   "metadata": {},
   "outputs": [
    {
     "data": {
      "application/vnd.jupyter.widget-view+json": {
       "model_id": "36341a9daf3142a2808824b2f885be17",
       "version_major": 2,
       "version_minor": 0
      },
      "text/plain": [
       "VBox()"
      ]
     },
     "metadata": {},
     "output_type": "display_data"
    },
    {
     "data": {
      "application/vnd.jupyter.widget-view+json": {
       "model_id": "",
       "version_major": 2,
       "version_minor": 0
      },
      "text/plain": [
       "FloatProgress(value=0.0, bar_style='info', description='Progress:', layout=Layout(height='25px', width='50%'),…"
      ]
     },
     "metadata": {},
     "output_type": "display_data"
    }
   ],
   "source": [
    "# Feature Engineering: Reduce the 18 possible product categories down to a more manageable 6 different categories of product\n",
    "# Build up the map of translations\n",
    "mapping = {\n",
    "    \"Debt collection\": \"DebtCollection\",\n",
    "    \"Virtual currency\": \"NonBank\",\n",
    "    \"Payday loan\": \"Loans\",\n",
    "    \"Money transfers\": \"Transfers\",\n",
    "    \"Money transfer, virtual currency, or money service\": \"Transfers\",\n",
    "    \"Checking or savings account\": \"BankAccount\",\n",
    "    \"Mortgage\": \"BankAccount\",\n",
    "    \"Prepaid card\": \"BankAccount\",\n",
    "    \"Credit card or prepaid card\": \"BankAccount\",\n",
    "    \"Credit reporting\": \"CreditService\",\n",
    "    \"Consumer Loan\": \"Loans\",\n",
    "    \"Credit reporting, credit repair services, or other personal consumer reports\": \"CreditService\",\n",
    "    \"Credit card\": \"BankAccount\",\n",
    "    \"Bank account or service\": \"BankAccount\",\n",
    "    \"Vehicle loan or lease\": \"Loans\",\n",
    "    \"Other financial service\": \"NonBank\",\n",
    "    \"Student loan\": \"Loans\",\n",
    "    \"Payday loan, title loan, or personal loan\": \"Loans\"\n",
    "}\n",
    "# Select out the required information, and remap the product values at the same time\n",
    "complaint_count_src = customer_complaints.select([\"Company\", \"Complaint ID\", \"Date received\", \"Issue\", \"Product\", \\\n",
    "                                                  \"Sub-issue\", \"Sub-product\", \"ZIP code\"]).replace(to_replace=mapping, subset=['Product'])\n",
    "# Then group by the zip code (which will roll up the complaints per product per zip), and at the same time\n",
    "# Pivot the data so that 6 possible rows of data per ZIP become one row with 6 columns of summed values (and null where that category didn't appea in the zip)\n",
    "zipcode_complaint_count = complaint_count_src.groupBy('ZIP code').pivot('Product').count()"
   ]
  },
  {
   "cell_type": "code",
   "execution_count": 7,
   "metadata": {},
   "outputs": [
    {
     "data": {
      "application/vnd.jupyter.widget-view+json": {
       "model_id": "efe8637e505e43d28cf15a07693b5424",
       "version_major": 2,
       "version_minor": 0
      },
      "text/plain": [
       "VBox()"
      ]
     },
     "metadata": {},
     "output_type": "display_data"
    },
    {
     "data": {
      "application/vnd.jupyter.widget-view+json": {
       "model_id": "",
       "version_major": 2,
       "version_minor": 0
      },
      "text/plain": [
       "FloatProgress(value=0.0, bar_style='info', description='Progress:', layout=Layout(height='25px', width='50%'),…"
      ]
     },
     "metadata": {},
     "output_type": "display_data"
    }
   ],
   "source": [
    "# Data in the tax file is banded by adjusted gross income brackets. Roll the individual banded numbers of returns and total income into a sum per zip\n",
    "rollup_tax = tax_data.select(F.col(\"zipcode\"), F.col(\"N1\").alias(\"NumReturns\"), F.col(\"A02650\").alias(\"TotalIncome\")).groupBy('zipcode').sum()"
   ]
  },
  {
   "cell_type": "code",
   "execution_count": 8,
   "metadata": {},
   "outputs": [
    {
     "data": {
      "application/vnd.jupyter.widget-view+json": {
       "model_id": "4e64a044d3974fd8ba1fff9d29c28279",
       "version_major": 2,
       "version_minor": 0
      },
      "text/plain": [
       "VBox()"
      ]
     },
     "metadata": {},
     "output_type": "display_data"
    },
    {
     "data": {
      "application/vnd.jupyter.widget-view+json": {
       "model_id": "",
       "version_major": 2,
       "version_minor": 0
      },
      "text/plain": [
       "FloatProgress(value=0.0, bar_style='info', description='Progress:', layout=Layout(height='25px', width='50%'),…"
      ]
     },
     "metadata": {},
     "output_type": "display_data"
    }
   ],
   "source": [
    "complaints = zipcode_complaint_count.join(zip_geo.select([\"Zip\",\"City\",\"State\",\"Latitude\",\"Longitude\"]), F.col(\"ZIP code\") == F.col(\"Zip\"), 'inner')\n",
    "complaints = complaints.join(rollup_tax.select(F.col(\"zipcode\"), F.col(\"sum(NumReturns)\").alias(\"NumReturns\"), F.col(\"sum(TotalIncome)\").alias(\"TotalIncome\")), F.col(\"ZIP code\") == F.col(\"zipcode\"), 'inner')"
   ]
  },
  {
   "cell_type": "code",
   "execution_count": 9,
   "metadata": {},
   "outputs": [
    {
     "data": {
      "application/vnd.jupyter.widget-view+json": {
       "model_id": "f7328350f90f4ef287dd78db1cb84b67",
       "version_major": 2,
       "version_minor": 0
      },
      "text/plain": [
       "VBox()"
      ]
     },
     "metadata": {},
     "output_type": "display_data"
    },
    {
     "data": {
      "application/vnd.jupyter.widget-view+json": {
       "model_id": "",
       "version_major": 2,
       "version_minor": 0
      },
      "text/plain": [
       "FloatProgress(value=0.0, bar_style='info', description='Progress:', layout=Layout(height='25px', width='50%'),…"
      ]
     },
     "metadata": {},
     "output_type": "display_data"
    },
    {
     "name": "stdout",
     "output_type": "stream",
     "text": [
      "+--------+-----------+-------------+--------------+-----+-------+---------+-----+-------------+-----+---------+----------+-------+----------+-----------+\n",
      "|ZIP code|BankAccount|CreditService|DebtCollection|Loans|NonBank|Transfers|  Zip|         City|State| Latitude| Longitude|zipcode|NumReturns|TotalIncome|\n",
      "+--------+-----------+-------------+--------------+-----+-------+---------+-----+-------------+-----+---------+----------+-------+----------+-----------+\n",
      "|   80422|          3|         null|          null|    2|   null|     null|80422|   Black Hawk|   CO|39.813744|-105.50875|  80422|    1660.0|   111149.0|\n",
      "|   32773|         34|           16|            35|    9|      1|        1|32773|      Sanford|   FL|28.769173| -81.27631|  32773|   14140.0|   548499.0|\n",
      "|   92027|         64|           44|            32|    8|   null|        4|92027|    Escondido|   CA|33.142706|-117.03049|  92027|   24700.0|  1308800.0|\n",
      "|   19132|         40|           71|            23|   10|   null|        1|19132| Philadelphia|   PA|39.995412| -75.16977|  19132|   13740.0|   352757.0|\n",
      "|   35640|         14|           12|             9|    3|   null|     null|35640|    Hartselle|   AL|34.442184| -86.94027|  35640|   10640.0|   575726.0|\n",
      "|   75602|         13|            4|             3| null|   null|     null|75602|     Longview|   TX|32.474499|   -94.712|  75602|    8820.0|   335951.0|\n",
      "|   17401|          1|         null|             3| null|   null|     null|17401|         York|   PA|39.962463| -76.72887|  17401|    7940.0|   196639.0|\n",
      "|   11722|         69|           56|            23|    8|   null|     null|11722|Central Islip|   NY|40.784874| -73.19924|  11722|   19010.0|   798067.0|\n",
      "|   60053|         52|            4|             9|    9|   null|     null|60053| Morton Grove|   IL|42.041999| -87.78882|  60053|   12350.0|   905985.0|\n",
      "|   44423|          2|         null|          null|    1|   null|     null|44423|   Hanoverton|   OH| 40.75105| -80.91009|  44423|    1090.0|    50117.0|\n",
      "|   35004|          3|            2|          null|    1|   null|     null|35004|        Moody|   AL|33.606379| -86.50249|  35004|    5110.0|   283221.0|\n",
      "|   11563|         48|           22|            27|    3|      1|        1|11563|     Lynbrook|   NY|40.656974| -73.67306|  11563|   11520.0|  1028777.0|\n",
      "|   28117|         71|           39|            18|    6|   null|     null|28117|  Mooresville|   NC|35.571827| -80.89228|  28117|   19240.0|  2494596.0|\n",
      "|   39350|          4|            2|             4|    4|   null|     null|39350| Philadelphia|   MS|32.776368| -89.12788|  39350|   10060.0|   426911.0|\n",
      "|   36526|         20|           50|            22|   14|   null|     null|36526|       Daphne|   AL|30.620594| -87.88312|  36526|   14640.0|  1050774.0|\n",
      "|   75007|         91|           92|            59|   14|   null|     null|75007|   Carrollton|   TX| 33.00542| -96.89773|  75007|   26100.0|  1848359.0|\n",
      "|   33174|         46|            9|            15|    7|   null|        1|33174|        Miami|   FL|25.763044| -80.35919|  33174|   15950.0|   546386.0|\n",
      "|   06518|         15|         null|             2|    1|   null|     null| 6518|       Hamden|   CT|41.413114| -72.90409|   6518|    7380.0|   616531.0|\n",
      "|   90022|         23|           17|            18|    7|   null|     null|90022|  Los Angeles|   CA|34.023662|-118.15581|  90022|   27750.0|   882998.0|\n",
      "|   77303|          2|           15|             1| null|   null|     null|77303|       Conroe|   TX|30.368543| -95.40217|  77303|    7810.0|   371681.0|\n",
      "+--------+-----------+-------------+--------------+-----+-------+---------+-----+-------------+-----+---------+----------+-------+----------+-----------+\n",
      "only showing top 20 rows"
     ]
    }
   ],
   "source": [
    "complaints.show()"
   ]
  },
  {
   "cell_type": "code",
   "execution_count": 15,
   "metadata": {},
   "outputs": [
    {
     "data": {
      "application/vnd.jupyter.widget-view+json": {
       "model_id": "128fb25ee5654ebb97789af0496036bd",
       "version_major": 2,
       "version_minor": 0
      },
      "text/plain": [
       "VBox()"
      ]
     },
     "metadata": {},
     "output_type": "display_data"
    },
    {
     "data": {
      "application/vnd.jupyter.widget-view+json": {
       "model_id": "",
       "version_major": 2,
       "version_minor": 0
      },
      "text/plain": [
       "FloatProgress(value=0.0, bar_style='info', description='Progress:', layout=Layout(height='25px', width='50%'),…"
      ]
     },
     "metadata": {},
     "output_type": "display_data"
    }
   ],
   "source": [
    "save_name = \"/Data/ComplaintStats.json\"\n",
    "#complaints.write.json(input_bucket + save_name)\n",
    "complaints.repartition(1).write.json(input_bucket + save_name)\n",
    "#complaints.toJSON().saveAsTextFile(input_bucket + save_name)"
   ]
  },
  {
   "cell_type": "code",
   "execution_count": 10,
   "metadata": {},
   "outputs": [
    {
     "data": {
      "application/vnd.jupyter.widget-view+json": {
       "model_id": "0277e37089274db8b5526dd4cd7ef022",
       "version_major": 2,
       "version_minor": 0
      },
      "text/plain": [
       "VBox()"
      ]
     },
     "metadata": {},
     "output_type": "display_data"
    },
    {
     "data": {
      "application/vnd.jupyter.widget-view+json": {
       "model_id": "",
       "version_major": 2,
       "version_minor": 0
      },
      "text/plain": [
       "FloatProgress(value=0.0, bar_style='info', description='Progress:', layout=Layout(height='25px', width='50%'),…"
      ]
     },
     "metadata": {},
     "output_type": "display_data"
    },
    {
     "name": "stdout",
     "output_type": "stream",
     "text": [
      "Collecting pandas==0.25.1\n",
      "  Downloading pandas-0.25.1-cp36-cp36m-manylinux1_x86_64.whl (10.5 MB)\n",
      "Collecting python-dateutil>=2.6.1\n",
      "  Downloading python_dateutil-2.8.1-py2.py3-none-any.whl (227 kB)\n",
      "Requirement already satisfied: numpy>=1.13.3 in /usr/local/lib64/python3.6/site-packages (from pandas==0.25.1) (1.14.5)\n",
      "Requirement already satisfied: pytz>=2017.2 in /usr/local/lib/python3.6/site-packages (from pandas==0.25.1) (2019.3)\n",
      "Requirement already satisfied: six>=1.5 in /usr/local/lib/python3.6/site-packages (from python-dateutil>=2.6.1->pandas==0.25.1) (1.12.0)\n",
      "Installing collected packages: python-dateutil, pandas\n",
      "Successfully installed pandas-0.25.1 python-dateutil-2.8.1\n",
      "\n",
      "Collecting matplotlib\n",
      "  Downloading matplotlib-3.1.2-cp36-cp36m-manylinux1_x86_64.whl (13.1 MB)\n",
      "Collecting pyparsing!=2.0.4,!=2.1.2,!=2.1.6,>=2.0.1\n",
      "  Downloading pyparsing-2.4.6-py2.py3-none-any.whl (67 kB)\n",
      "Requirement already satisfied: numpy>=1.11 in /usr/local/lib64/python3.6/site-packages (from matplotlib) (1.14.5)\n",
      "Requirement already satisfied: python-dateutil>=2.1 in /mnt/tmp/1580039002990-0/lib/python3.6/site-packages (from matplotlib) (2.8.1)\n",
      "Collecting kiwisolver>=1.0.1\n",
      "  Downloading kiwisolver-1.1.0-cp36-cp36m-manylinux1_x86_64.whl (90 kB)\n",
      "Collecting cycler>=0.10\n",
      "  Downloading cycler-0.10.0-py2.py3-none-any.whl (6.5 kB)\n",
      "Requirement already satisfied: six>=1.5 in /usr/local/lib/python3.6/site-packages (from python-dateutil>=2.1->matplotlib) (1.12.0)\n",
      "Requirement already satisfied: setuptools in /mnt/tmp/1580039002990-0/lib/python3.6/site-packages (from kiwisolver>=1.0.1->matplotlib) (45.1.0)\n",
      "Installing collected packages: pyparsing, kiwisolver, cycler, matplotlib\n",
      "Successfully installed cycler-0.10.0 kiwisolver-1.1.0 matplotlib-3.1.2 pyparsing-2.4.6"
     ]
    }
   ],
   "source": [
    "sc.install_pypi_package(\"pandas==0.25.1\") #Install pandas version 0.25.1 \n",
    "sc.install_pypi_package(\"matplotlib\", \"https://pypi.org/simple\") #Install matplotlib from given PyPI repository"
   ]
  },
  {
   "cell_type": "code",
   "execution_count": 61,
   "metadata": {},
   "outputs": [
    {
     "data": {
      "application/vnd.jupyter.widget-view+json": {
       "model_id": "8d0c02132897421590f46ed0c8c77cb1",
       "version_major": 2,
       "version_minor": 0
      },
      "text/plain": [
       "VBox()"
      ]
     },
     "metadata": {},
     "output_type": "display_data"
    },
    {
     "data": {
      "application/vnd.jupyter.widget-view+json": {
       "model_id": "",
       "version_major": 2,
       "version_minor": 0
      },
      "text/plain": [
       "FloatProgress(value=0.0, bar_style='info', description='Progress:', layout=Layout(height='25px', width='50%'),…"
      ]
     },
     "metadata": {},
     "output_type": "display_data"
    },
    {
     "name": "stderr",
     "output_type": "stream",
     "text": [
      "Package already installed for current Spark context!\n",
      "Traceback (most recent call last):\n",
      "  File \"/usr/lib/spark/python/lib/pyspark.zip/pyspark/context.py\", line 1110, in install_pypi_package\n",
      "    raise ValueError(\"Package already installed for current Spark context!\")\n",
      "ValueError: Package already installed for current Spark context!\n",
      "\n"
     ]
    }
   ],
   "source": [
    "#sc.install_pypi_package(\"geos\")\n",
    "#sc.install_pypi_package(\"geopandas\")\n",
    "#sc.install_pypi_package(\"contextily\")"
   ]
  },
  {
   "cell_type": "code",
   "execution_count": 60,
   "metadata": {},
   "outputs": [
    {
     "data": {
      "application/vnd.jupyter.widget-view+json": {
       "model_id": "7f8fd1d73f304d79a15734c85c5a55f3",
       "version_major": 2,
       "version_minor": 0
      },
      "text/plain": [
       "VBox()"
      ]
     },
     "metadata": {},
     "output_type": "display_data"
    },
    {
     "data": {
      "application/vnd.jupyter.widget-view+json": {
       "model_id": "",
       "version_major": 2,
       "version_minor": 0
      },
      "text/plain": [
       "FloatProgress(value=0.0, bar_style='info', description='Progress:', layout=Layout(height='25px', width='50%'),…"
      ]
     },
     "metadata": {},
     "output_type": "display_data"
    },
    {
     "name": "stdout",
     "output_type": "stream",
     "text": [
      "\n",
      "ERROR: Could not find a version that satisfies the requirement basemap (from versions: none)\n",
      "ERROR: No matching distribution found for basemap"
     ]
    }
   ],
   "source": [
    "#sc.install_pypi_package(\"Cython\")\n",
    "#sc.install_pypi_package(\"NumPy\")\n",
    "#sc.uninstall_package(\"GEOS\")\n",
    "#sc.install_pypi_package(\"GEOS==3.3.3\")\n",
    "#sc.install_pypi_package(\"Shapely\")\n",
    "#sc.install_pypi_package(\"pyshp\")\n",
    "#sc.install_pypi_package(\"PROJ==4.9.0\")\n",
    "#sc.uninstall_package(\"PROJ\")\n",
    "#sc.install_pypi_package(\"six\")\n",
    "#sc.install_pypi_package(\"contextily\")\n",
    "\n"
   ]
  },
  {
   "cell_type": "code",
   "execution_count": 11,
   "metadata": {},
   "outputs": [
    {
     "data": {
      "application/vnd.jupyter.widget-view+json": {
       "model_id": "789189e0d9574a6592506aceebf9dda3",
       "version_major": 2,
       "version_minor": 0
      },
      "text/plain": [
       "VBox()"
      ]
     },
     "metadata": {},
     "output_type": "display_data"
    },
    {
     "data": {
      "application/vnd.jupyter.widget-view+json": {
       "model_id": "",
       "version_major": 2,
       "version_minor": 0
      },
      "text/plain": [
       "FloatProgress(value=0.0, bar_style='info', description='Progress:', layout=Layout(height='25px', width='50%'),…"
      ]
     },
     "metadata": {},
     "output_type": "display_data"
    }
   ],
   "source": [
    "complaints_frame = complaints.toPandas()\n",
    "complaints_frame = complaints_frame.fillna(0)"
   ]
  },
  {
   "cell_type": "code",
   "execution_count": 12,
   "metadata": {},
   "outputs": [
    {
     "data": {
      "application/vnd.jupyter.widget-view+json": {
       "model_id": "630c6b1ddccc4eff8e511bb9da1c4009",
       "version_major": 2,
       "version_minor": 0
      },
      "text/plain": [
       "VBox()"
      ]
     },
     "metadata": {},
     "output_type": "display_data"
    },
    {
     "data": {
      "application/vnd.jupyter.widget-view+json": {
       "model_id": "",
       "version_major": 2,
       "version_minor": 0
      },
      "text/plain": [
       "FloatProgress(value=0.0, bar_style='info', description='Progress:', layout=Layout(height='25px', width='50%'),…"
      ]
     },
     "metadata": {},
     "output_type": "display_data"
    }
   ],
   "source": [
    "complaints_frame['TotalComplaints'] = complaints_frame.BankAccount + complaints_frame.CreditService + complaints_frame.DebtCollection + complaints_frame.Loans + \\\n",
    "    complaints_frame.NonBank + complaints_frame.Transfers"
   ]
  },
  {
   "cell_type": "code",
   "execution_count": 20,
   "metadata": {},
   "outputs": [
    {
     "data": {
      "application/vnd.jupyter.widget-view+json": {
       "model_id": "b3ba2646a2274f22b75f195cdb78de42",
       "version_major": 2,
       "version_minor": 0
      },
      "text/plain": [
       "VBox()"
      ]
     },
     "metadata": {},
     "output_type": "display_data"
    },
    {
     "data": {
      "application/vnd.jupyter.widget-view+json": {
       "model_id": "",
       "version_major": 2,
       "version_minor": 0
      },
      "text/plain": [
       "FloatProgress(value=0.0, bar_style='info', description='Progress:', layout=Layout(height='25px', width='50%'),…"
      ]
     },
     "metadata": {},
     "output_type": "display_data"
    }
   ],
   "source": [
    "continental_us_complaints = complaints_frame[~complaints_frame['State'].isin(['AK', 'HI'])]\n"
   ]
  },
  {
   "cell_type": "code",
   "execution_count": 13,
   "metadata": {
    "collapsed": true
   },
   "outputs": [],
   "source": [
    "%matplotlib inline"
   ]
  },
  {
   "cell_type": "code",
   "execution_count": 21,
   "metadata": {},
   "outputs": [
    {
     "data": {
      "application/vnd.jupyter.widget-view+json": {
       "model_id": "3bbd37f07f2e4d01b1f8cf4a72582864",
       "version_major": 2,
       "version_minor": 0
      },
      "text/plain": [
       "VBox()"
      ]
     },
     "metadata": {},
     "output_type": "display_data"
    },
    {
     "data": {
      "application/vnd.jupyter.widget-view+json": {
       "model_id": "",
       "version_major": 2,
       "version_minor": 0
      },
      "text/plain": [
       "FloatProgress(value=0.0, bar_style='info', description='Progress:', layout=Layout(height='25px', width='50%'),…"
      ]
     },
     "metadata": {},
     "output_type": "display_data"
    },
    {
     "data": {
      "image/png": "[encoded data removed]",
      "text/plain": [
       "<IPython.core.display.Image object>"
      ]
     },
     "metadata": {},
     "output_type": "display_data"
    }
   ],
   "source": [
    "\n",
    "# Import the necessary packages and modules\n",
    "import matplotlib.pyplot as plt\n",
    "import numpy as np\n",
    "\n",
    "# Set the plot size\n",
    "plt.figure(figsize=(10, 8))\n",
    "\n",
    "# Scatter plot the Long and Lat of complaints\n",
    "plt.scatter(continental_us_complaints['Longitude'].values, continental_us_complaints['Latitude'].values, 0.1)\n",
    "plt.show()\n",
    "%matplot plt"
   ]
  },
  {
   "cell_type": "code",
   "execution_count": 22,
   "metadata": {},
   "outputs": [
    {
     "data": {
      "application/vnd.jupyter.widget-view+json": {
       "model_id": "f720ce5cb26f4ef9b2ebadfe42e91679",
       "version_major": 2,
       "version_minor": 0
      },
      "text/plain": [
       "VBox()"
      ]
     },
     "metadata": {},
     "output_type": "display_data"
    },
    {
     "data": {
      "application/vnd.jupyter.widget-view+json": {
       "model_id": "",
       "version_major": 2,
       "version_minor": 0
      },
      "text/plain": [
       "FloatProgress(value=0.0, bar_style='info', description='Progress:', layout=Layout(height='25px', width='50%'),…"
      ]
     },
     "metadata": {},
     "output_type": "display_data"
    },
    {
     "name": "stdout",
     "output_type": "stream",
     "text": [
      "count    15833.000000\n",
      "mean        45.866797\n",
      "std         78.101102\n",
      "min          1.000000\n",
      "25%          2.000000\n",
      "50%          6.000000\n",
      "75%         64.000000\n",
      "max       1068.000000\n",
      "Name: TotalComplaints, dtype: float64"
     ]
    }
   ],
   "source": [
    "# stats for total complaints\n",
    "continental_us_complaints.TotalComplaints.describe()"
   ]
  },
  {
   "cell_type": "code",
   "execution_count": 26,
   "metadata": {},
   "outputs": [
    {
     "data": {
      "application/vnd.jupyter.widget-view+json": {
       "model_id": "60d385883f704fd2a4d3399d152d46d0",
       "version_major": 2,
       "version_minor": 0
      },
      "text/plain": [
       "VBox()"
      ]
     },
     "metadata": {},
     "output_type": "display_data"
    },
    {
     "data": {
      "application/vnd.jupyter.widget-view+json": {
       "model_id": "",
       "version_major": 2,
       "version_minor": 0
      },
      "text/plain": [
       "FloatProgress(value=0.0, bar_style='info', description='Progress:', layout=Layout(height='25px', width='50%'),…"
      ]
     },
     "metadata": {},
     "output_type": "display_data"
    },
    {
     "name": "stdout",
     "output_type": "stream",
     "text": [
      "count    15833.000000\n",
      "mean         0.003691\n",
      "std          0.004416\n",
      "min          0.000097\n",
      "25%          0.000847\n",
      "50%          0.002083\n",
      "75%          0.005241\n",
      "max          0.146154\n",
      "Name: ComplaintsPerTaxReturn, dtype: float64"
     ]
    }
   ],
   "source": [
    "# R1: Are there complaints hotspots across the US?\n",
    "\n",
    "# Step 1: Add ComplaintsPerTaxReturn stat\n",
    "continental_us_complaints['ComplaintsPerTaxReturn'] = continental_us_complaints.TotalComplaints / continental_us_complaints.NumReturns\n",
    "\n",
    "continental_us_complaints['ComplaintsPerTaxReturn'].describe()\n"
   ]
  },
  {
   "cell_type": "code",
   "execution_count": 75,
   "metadata": {},
   "outputs": [
    {
     "data": {
      "application/vnd.jupyter.widget-view+json": {
       "model_id": "18c6cada44044d34a3e00e19f480dc3b",
       "version_major": 2,
       "version_minor": 0
      },
      "text/plain": [
       "VBox()"
      ]
     },
     "metadata": {},
     "output_type": "display_data"
    },
    {
     "data": {
      "application/vnd.jupyter.widget-view+json": {
       "model_id": "",
       "version_major": 2,
       "version_minor": 0
      },
      "text/plain": [
       "FloatProgress(value=0.0, bar_style='info', description='Progress:', layout=Layout(height='25px', width='50%'),…"
      ]
     },
     "metadata": {},
     "output_type": "display_data"
    }
   ],
   "source": [
    "stats = complaints_frame.ComplaintsPerTaxReturn.describe()\n",
    "# find all zip codes with complaints 2 standard deviations from the statistical average of complaints per tax return\n",
    "outliers = continental_us_complaints[continental_us_complaints['ComplaintsPerTaxReturn'] > (stats['mean'] + (stats['std'] * 2))]"
   ]
  },
  {
   "cell_type": "code",
   "execution_count": 76,
   "metadata": {},
   "outputs": [
    {
     "data": {
      "application/vnd.jupyter.widget-view+json": {
       "model_id": "e2b9c4f1380e47d494653ab330563fd9",
       "version_major": 2,
       "version_minor": 0
      },
      "text/plain": [
       "VBox()"
      ]
     },
     "metadata": {},
     "output_type": "display_data"
    },
    {
     "data": {
      "application/vnd.jupyter.widget-view+json": {
       "model_id": "",
       "version_major": 2,
       "version_minor": 0
      },
      "text/plain": [
       "FloatProgress(value=0.0, bar_style='info', description='Progress:', layout=Layout(height='25px', width='50%'),…"
      ]
     },
     "metadata": {},
     "output_type": "display_data"
    },
    {
     "name": "stdout",
     "output_type": "stream",
     "text": [
      "(-124.37144, -68.44607, 24.91828, 48.283826)"
     ]
    }
   ],
   "source": [
    "BBox = (outliers.Longitude.min(), outliers.Longitude.max(), outliers.Latitude.min(), outliers.Latitude.max())\n",
    "BBox"
   ]
  },
  {
   "cell_type": "code",
   "execution_count": 1,
   "metadata": {},
   "outputs": [
    {
     "ename": "NameError",
     "evalue": "name 'outliers' is not defined",
     "output_type": "error",
     "traceback": [
      "\u001b[1;31m---------------------------------------------------------------------------\u001b[0m",
      "\u001b[1;31mNameError\u001b[0m                                 Traceback (most recent call last)",
      "\u001b[1;32m<ipython-input-1-426a29faa01f>\u001b[0m in \u001b[0;36m<module>\u001b[1;34m\u001b[0m\n\u001b[0;32m      7\u001b[0m \u001b[1;33m\u001b[0m\u001b[0m\n\u001b[0;32m      8\u001b[0m \u001b[1;31m# Scatter plot the Long and Lat of complaints\u001b[0m\u001b[1;33m\u001b[0m\u001b[1;33m\u001b[0m\u001b[1;33m\u001b[0m\u001b[0m\n\u001b[1;32m----> 9\u001b[1;33m \u001b[0mplt\u001b[0m\u001b[1;33m.\u001b[0m\u001b[0mscatter\u001b[0m\u001b[1;33m(\u001b[0m\u001b[0moutliers\u001b[0m\u001b[1;33m[\u001b[0m\u001b[1;34m'Longitude'\u001b[0m\u001b[1;33m]\u001b[0m\u001b[1;33m.\u001b[0m\u001b[0mvalues\u001b[0m\u001b[1;33m,\u001b[0m \u001b[0moutliers\u001b[0m\u001b[1;33m[\u001b[0m\u001b[1;34m'Latitude'\u001b[0m\u001b[1;33m]\u001b[0m\u001b[1;33m.\u001b[0m\u001b[0mvalues\u001b[0m\u001b[1;33m,\u001b[0m \u001b[1;36m3\u001b[0m\u001b[1;33m,\u001b[0m \u001b[0mc\u001b[0m\u001b[1;33m=\u001b[0m\u001b[0moutliers\u001b[0m\u001b[1;33m[\u001b[0m\u001b[1;34m'ComplaintsPerTaxReturn'\u001b[0m\u001b[1;33m]\u001b[0m\u001b[1;33m.\u001b[0m\u001b[0mvalues\u001b[0m\u001b[1;33m,\u001b[0m \u001b[0mcmap\u001b[0m \u001b[1;33m=\u001b[0m \u001b[1;34m'Reds'\u001b[0m\u001b[1;33m)\u001b[0m\u001b[1;33m\u001b[0m\u001b[1;33m\u001b[0m\u001b[0m\n\u001b[0m\u001b[0;32m     10\u001b[0m \u001b[1;31m#plt.scatter(complaints_frame['Longitude'].values, complaints_frame['Latitude'].values, 0.1, c=complaints_frame['ComplaintsPerTaxReturn'].values, cmap = 'Oranges')\u001b[0m\u001b[1;33m\u001b[0m\u001b[1;33m\u001b[0m\u001b[1;33m\u001b[0m\u001b[0m\n\u001b[0;32m     11\u001b[0m \u001b[1;33m\u001b[0m\u001b[0m\n",
      "\u001b[1;31mNameError\u001b[0m: name 'outliers' is not defined"
     ]
    },
    {
     "data": {
      "text/plain": [
       "<Figure size 720x576 with 0 Axes>"
      ]
     },
     "metadata": {},
     "output_type": "display_data"
    }
   ],
   "source": [
    "# Import the necessary packages and modules\n",
    "import matplotlib.pyplot as plt\n",
    "import numpy as np\n",
    "\n",
    "# Set the plot size\n",
    "plt.figure(figsize=(10, 8))\n",
    "\n",
    "# Scatter plot the Long and Lat of complaints\n",
    "plt.scatter(outliers['Longitude'].values, outliers['Latitude'].values, 3, c=outliers['ComplaintsPerTaxReturn'].values, cmap = 'Reds')\n",
    "#plt.scatter(complaints_frame['Longitude'].values, complaints_frame['Latitude'].values, 0.1, c=complaints_frame['ComplaintsPerTaxReturn'].values, cmap = 'Oranges')\n",
    "\n",
    "cbar = plt.colorbar()\n",
    "cbar.set_label(\"Complaints per tax return: Outliers\")\n",
    "\n",
    "plt.show()\n",
    "%matplot plt"
   ]
  },
  {
   "cell_type": "code",
   "execution_count": 63,
   "metadata": {},
   "outputs": [
    {
     "data": {
      "application/vnd.jupyter.widget-view+json": {
       "model_id": "ee04e8cb43b54945a21edd2152aa8aeb",
       "version_major": 2,
       "version_minor": 0
      },
      "text/plain": [
       "VBox()"
      ]
     },
     "metadata": {},
     "output_type": "display_data"
    },
    {
     "data": {
      "application/vnd.jupyter.widget-view+json": {
       "model_id": "",
       "version_major": 2,
       "version_minor": 0
      },
      "text/plain": [
       "FloatProgress(value=0.0, bar_style='info', description='Progress:', layout=Layout(height='25px', width='50%'),…"
      ]
     },
     "metadata": {},
     "output_type": "display_data"
    },
    {
     "name": "stdout",
     "output_type": "stream",
     "text": [
      "count    15934.000000\n",
      "mean         0.003683\n",
      "std          0.004406\n",
      "min          0.000097\n",
      "25%          0.000847\n",
      "50%          0.002083\n",
      "75%          0.005219\n",
      "max          0.146154\n",
      "Name: ComplaintsPerTaxReturn, dtype: float64"
     ]
    }
   ],
   "source": []
  },
  {
   "cell_type": "code",
   "execution_count": null,
   "metadata": {
    "collapsed": true
   },
   "outputs": [],
   "source": []
  }
 ],
 "metadata": {
  "kernelspec": {
   "display_name": "Python 3",
   "language": "python",
   "name": "python3"
  },
  "language_info": {
   "codemirror_mode": {
    "name": "ipython",
    "version": 3
   },
   "file_extension": ".py",
   "mimetype": "text/x-python",
   "name": "python",
   "nbconvert_exporter": "python",
   "pygments_lexer": "ipython3",
   "version": "3.7.4"
  }
 },
 "nbformat": 4,
 "nbformat_minor": 4
}
