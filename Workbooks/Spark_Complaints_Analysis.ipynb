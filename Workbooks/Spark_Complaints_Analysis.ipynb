{
 "cells": [
  {
   "cell_type": "code",
   "execution_count": 1,
   "metadata": {},
   "outputs": [
    {
     "data": {
      "application/vnd.jupyter.widget-view+json": {
       "model_id": "57be09c6c6b34459b3f5c70c28dc50d4",
       "version_major": 2,
       "version_minor": 0
      },
      "text/plain": [
       "VBox()"
      ]
     },
     "metadata": {},
     "output_type": "display_data"
    },
    {
     "name": "stdout",
     "output_type": "stream",
     "text": [
      "Starting Spark application\n"
     ]
    },
    {
     "data": {
      "text/html": [
       "<table>\n",
       "<tr><th>ID</th><th>YARN Application ID</th><th>Kind</th><th>State</th><th>Spark UI</th><th>Driver log</th><th>Current session?</th></tr><tr><td>0</td><td>application_1581621892773_0001</td><td>pyspark</td><td>idle</td><td><a target=\"_blank\" href=\"http://ip-172-31-17-70.ec2.internal:20888/proxy/application_1581621892773_0001/\">Link</a></td><td><a target=\"_blank\" href=\"http://ip-172-31-24-165.ec2.internal:8042/node/containerlogs/container_1581621892773_0001_01_000001/livy\">Link</a></td><td>✔</td></tr></table>"
      ],
      "text/plain": [
       "<IPython.core.display.HTML object>"
      ]
     },
     "metadata": {},
     "output_type": "display_data"
    },
    {
     "data": {
      "application/vnd.jupyter.widget-view+json": {
       "model_id": "",
       "version_major": 2,
       "version_minor": 0
      },
      "text/plain": [
       "FloatProgress(value=0.0, bar_style='info', description='Progress:', layout=Layout(height='25px', width='50%'),…"
      ]
     },
     "metadata": {},
     "output_type": "display_data"
    },
    {
     "name": "stdout",
     "output_type": "stream",
     "text": [
      "SparkSession available as 'spark'.\n"
     ]
    },
    {
     "data": {
      "application/vnd.jupyter.widget-view+json": {
       "model_id": "",
       "version_major": 2,
       "version_minor": 0
      },
      "text/plain": [
       "FloatProgress(value=0.0, bar_style='info', description='Progress:', layout=Layout(height='25px', width='50%'),…"
      ]
     },
     "metadata": {},
     "output_type": "display_data"
    }
   ],
   "source": [
    "from pyspark.sql import functions as F"
   ]
  },
  {
   "cell_type": "code",
   "execution_count": 2,
   "metadata": {},
   "outputs": [
    {
     "data": {
      "application/vnd.jupyter.widget-view+json": {
       "model_id": "0b639e88072048bf98329f0b47e68e16",
       "version_major": 2,
       "version_minor": 0
      },
      "text/plain": [
       "VBox()"
      ]
     },
     "metadata": {},
     "output_type": "display_data"
    },
    {
     "data": {
      "application/vnd.jupyter.widget-view+json": {
       "model_id": "",
       "version_major": 2,
       "version_minor": 0
      },
      "text/plain": [
       "FloatProgress(value=0.0, bar_style='info', description='Progress:', layout=Layout(height='25px', width='50%'),…"
      ]
     },
     "metadata": {},
     "output_type": "display_data"
    }
   ],
   "source": [
    "from pyspark import SparkContext\n",
    "from pyspark.sql import SQLContext"
   ]
  },
  {
   "cell_type": "code",
   "execution_count": 3,
   "metadata": {},
   "outputs": [
    {
     "data": {
      "application/vnd.jupyter.widget-view+json": {
       "model_id": "d90057e247c74c458039230c376313b8",
       "version_major": 2,
       "version_minor": 0
      },
      "text/plain": [
       "VBox()"
      ]
     },
     "metadata": {},
     "output_type": "display_data"
    },
    {
     "data": {
      "application/vnd.jupyter.widget-view+json": {
       "model_id": "",
       "version_major": 2,
       "version_minor": 0
      },
      "text/plain": [
       "FloatProgress(value=0.0, bar_style='info', description='Progress:', layout=Layout(height='25px', width='50%'),…"
      ]
     },
     "metadata": {},
     "output_type": "display_data"
    },
    {
     "name": "stdout",
     "output_type": "stream",
     "text": [
      "+------------------+------------------+\n",
      "|min(Date received)|max(Date received)|\n",
      "+------------------+------------------+\n",
      "|        01/01/2012|        12/31/2018|\n",
      "+------------------+------------------+\n",
      "\n",
      "+--------------------+\n",
      "|             Product|\n",
      "+--------------------+\n",
      "|     Debt collection|\n",
      "|    Virtual currency|\n",
      "|         Payday loan|\n",
      "|     Money transfers|\n",
      "|Money transfer, v...|\n",
      "|Checking or savin...|\n",
      "|            Mortgage|\n",
      "|        Prepaid card|\n",
      "|Credit card or pr...|\n",
      "|    Credit reporting|\n",
      "|       Consumer Loan|\n",
      "|Credit reporting,...|\n",
      "|         Credit card|\n",
      "|Bank account or s...|\n",
      "|Vehicle loan or l...|\n",
      "|Other financial s...|\n",
      "|        Student loan|\n",
      "|Payday loan, titl...|\n",
      "+--------------------+"
     ]
    }
   ],
   "source": [
    "input_bucket = 's3://joonbigdataanalytics'\n",
    "complaint_input_path = '/Data/Customer_Complaints.json'\n",
    "\n",
    "customer_complaints = spark.read.json(input_bucket + complaint_input_path)\n",
    "\n",
    "# Show some basic information aggregated across the complaints dataset to validate \n",
    "# the data has loaded correctly \n",
    "# First: Show date ranges\n",
    "customer_complaints.agg(F.min(\"Date received\"), F.max(\"Date received\")).show()\n",
    "# Next: Show product types\n",
    "customer_complaints.select(\"Product\").distinct().show()\n"
   ]
  },
  {
   "cell_type": "code",
   "execution_count": 4,
   "metadata": {},
   "outputs": [
    {
     "data": {
      "application/vnd.jupyter.widget-view+json": {
       "model_id": "30f67c1b1b7044c080a433b8c03f6197",
       "version_major": 2,
       "version_minor": 0
      },
      "text/plain": [
       "VBox()"
      ]
     },
     "metadata": {},
     "output_type": "display_data"
    },
    {
     "data": {
      "application/vnd.jupyter.widget-view+json": {
       "model_id": "",
       "version_major": 2,
       "version_minor": 0
      },
      "text/plain": [
       "FloatProgress(value=0.0, bar_style='info', description='Progress:', layout=Layout(height='25px', width='50%'),…"
      ]
     },
     "metadata": {},
     "output_type": "display_data"
    },
    {
     "name": "stdout",
     "output_type": "stream",
     "text": [
      "+-------------+-------------+\n",
      "|min(Timezone)|max(Timezone)|\n",
      "+-------------+-------------+\n",
      "|          -10|           -4|\n",
      "+-------------+-------------+"
     ]
    }
   ],
   "source": [
    "# Load the zip code geo data\n",
    "zip_geo_input_path = '/Data/us-zip-code-latitude-and-longitude.csv'\n",
    "zip_geo = spark.read.csv(input_bucket + zip_geo_input_path, header = True, multiLine=True, inferSchema=True, sep=\";\")\n",
    "\n",
    "# display some representative data to verify it loaded correctly\n",
    "zip_geo.agg(F.min(\"Timezone\"), F.max(\"Timezone\")).show()"
   ]
  },
  {
   "cell_type": "code",
   "execution_count": 5,
   "metadata": {},
   "outputs": [
    {
     "data": {
      "application/vnd.jupyter.widget-view+json": {
       "model_id": "08bb2a0ecc2541dbb3bec07b9aae6222",
       "version_major": 2,
       "version_minor": 0
      },
      "text/plain": [
       "VBox()"
      ]
     },
     "metadata": {},
     "output_type": "display_data"
    },
    {
     "data": {
      "application/vnd.jupyter.widget-view+json": {
       "model_id": "",
       "version_major": 2,
       "version_minor": 0
      },
      "text/plain": [
       "FloatProgress(value=0.0, bar_style='info', description='Progress:', layout=Layout(height='25px', width='50%'),…"
      ]
     },
     "metadata": {},
     "output_type": "display_data"
    },
    {
     "name": "stdout",
     "output_type": "stream",
     "text": [
      "+-------+---------+\n",
      "|min(N1)|  max(N1)|\n",
      "+-------+---------+\n",
      "|    0.0|6231480.0|\n",
      "+-------+---------+"
     ]
    }
   ],
   "source": [
    "# Load the tax data by zip code\n",
    "tax_data_input_path = '/Data/15zpallagi.csv'\n",
    "tax_data = spark.read.csv(input_bucket + tax_data_input_path, header = True, multiLine=True, inferSchema=True)\n",
    "\n",
    "# display some representative data to verify it loaded correctly\n",
    "tax_data.agg(F.min(\"N1\"), F.max(\"N1\")).show()"
   ]
  },
  {
   "cell_type": "code",
   "execution_count": 6,
   "metadata": {},
   "outputs": [
    {
     "data": {
      "application/vnd.jupyter.widget-view+json": {
       "model_id": "042c93a9fcfc4e80960dd6d86354aa1b",
       "version_major": 2,
       "version_minor": 0
      },
      "text/plain": [
       "VBox()"
      ]
     },
     "metadata": {},
     "output_type": "display_data"
    },
    {
     "data": {
      "application/vnd.jupyter.widget-view+json": {
       "model_id": "",
       "version_major": 2,
       "version_minor": 0
      },
      "text/plain": [
       "FloatProgress(value=0.0, bar_style='info', description='Progress:', layout=Layout(height='25px', width='50%'),…"
      ]
     },
     "metadata": {},
     "output_type": "display_data"
    }
   ],
   "source": [
    "# Feature Engineering: Reduce the 18 possible product categories down \n",
    "# to a more manageable 7 different categories of product\n",
    "# Build up the map of translations\n",
    "mapping = {\n",
    "    \"Debt collection\": \"DebtCollection\",\n",
    "    \"Virtual currency\": \"NonBank\",\n",
    "    \"Payday loan\": \"Loans\",\n",
    "    \"Money transfers\": \"Transfers\",\n",
    "    \"Money transfer, virtual currency, or money service\": \"Transfers\",\n",
    "    \"Checking or savings account\": \"BankAccount\",\n",
    "    \"Mortgage\": \"BankAccount\",\n",
    "    \"Prepaid card\": \"CreditCard\",\n",
    "    \"Credit card or prepaid card\": \"CreditCard\",\n",
    "    \"Credit reporting\": \"CreditService\",\n",
    "    \"Consumer Loan\": \"Loans\",\n",
    "    \"Credit reporting, credit repair services, or other personal consumer reports\": \"CreditService\",\n",
    "    \"Credit card\": \"CreditCard\",\n",
    "    \"Bank account or service\": \"BankAccount\",\n",
    "    \"Vehicle loan or lease\": \"Loans\",\n",
    "    \"Other financial service\": \"NonBank\",\n",
    "    \"Student loan\": \"Loans\",\n",
    "    \"Payday loan, title loan, or personal loan\": \"Loans\"\n",
    "}\n",
    "# Select out the required information\n",
    "complaint_subset = customer_complaints.select([\"Company\", \"Complaint ID\", \\\n",
    "                                              \"Date received\", \"Issue\", \"Product\", \\\n",
    "                                              \"Sub-issue\", \"Sub-product\", \"ZIP code\"])\n",
    "# Remap the product values to the reduced set\n",
    "complaint_count_src = complaint_subset.replace(to_replace=mapping, subset=['Product'])\n",
    "# Then group by the zip code (which will roll up the complaints per product per zip), \n",
    "# and at the same time pivot the data so that 7 possible rows of data per ZIP become \n",
    "# one row with 7 columns of summed values (and null where that category didn't appear in the zip)\n",
    "zipcode_complaint_count = complaint_count_src.groupBy('ZIP code').pivot('Product').count()"
   ]
  },
  {
   "cell_type": "code",
   "execution_count": 10,
   "metadata": {},
   "outputs": [
    {
     "data": {
      "application/vnd.jupyter.widget-view+json": {
       "model_id": "15de34c9f18348faa4261ff518bf122a",
       "version_major": 2,
       "version_minor": 0
      },
      "text/plain": [
       "VBox()"
      ]
     },
     "metadata": {},
     "output_type": "display_data"
    },
    {
     "data": {
      "application/vnd.jupyter.widget-view+json": {
       "model_id": "",
       "version_major": 2,
       "version_minor": 0
      },
      "text/plain": [
       "FloatProgress(value=0.0, bar_style='info', description='Progress:', layout=Layout(height='25px', width='50%'),…"
      ]
     },
     "metadata": {},
     "output_type": "display_data"
    }
   ],
   "source": [
    "# Data in the tax file is banded by adjusted gross income brackets. \n",
    "# Roll the individual banded numbers of returns and total income into a sum per zip\n",
    "rollup_tax = tax_data.select(F.col(\"zipcode\"), F.col(\"N1\").alias(\"NumReturns\"), \\\n",
    "                             F.col(\"A02650\").alias(\"TotalIncome\")).groupBy('zipcode').sum()"
   ]
  },
  {
   "cell_type": "code",
   "execution_count": 8,
   "metadata": {},
   "outputs": [
    {
     "data": {
      "application/vnd.jupyter.widget-view+json": {
       "model_id": "1604bbe5194c4ac0a32071a096972386",
       "version_major": 2,
       "version_minor": 0
      },
      "text/plain": [
       "VBox()"
      ]
     },
     "metadata": {},
     "output_type": "display_data"
    },
    {
     "data": {
      "application/vnd.jupyter.widget-view+json": {
       "model_id": "",
       "version_major": 2,
       "version_minor": 0
      },
      "text/plain": [
       "FloatProgress(value=0.0, bar_style='info', description='Progress:', layout=Layout(height='25px', width='50%'),…"
      ]
     },
     "metadata": {},
     "output_type": "display_data"
    }
   ],
   "source": [
    "# Join zip code geo data into the complaint count by zip dataset\n",
    "complaints = zipcode_complaint_count.join(zip_geo.select([\"Zip\",\"City\",\"State\", \\\n",
    "                                                          \"Latitude\",\"Longitude\"]), \\\n",
    "                                          F.col(\"ZIP code\") == F.col(\"Zip\"), 'inner')\n",
    "# Add the tax data to the complaint counts\n",
    "complaints = complaints.join(rollup_tax.select(F.col(\"zipcode\"), F.col(\"sum(NumReturns)\"). \\\n",
    "                                               alias(\"NumReturns\"), F.col(\"sum(TotalIncome)\").\n",
    "                                               alias(\"TotalIncome\")), F.col(\"ZIP code\") == F.col(\"zipcode\"),\\\n",
    "                             'inner')"
   ]
  },
  {
   "cell_type": "code",
   "execution_count": 12,
   "metadata": {},
   "outputs": [
    {
     "data": {
      "application/vnd.jupyter.widget-view+json": {
       "model_id": "377b8d485a34419d926cf9cd501b72ce",
       "version_major": 2,
       "version_minor": 0
      },
      "text/plain": [
       "VBox()"
      ]
     },
     "metadata": {},
     "output_type": "display_data"
    },
    {
     "data": {
      "application/vnd.jupyter.widget-view+json": {
       "model_id": "",
       "version_major": 2,
       "version_minor": 0
      },
      "text/plain": [
       "FloatProgress(value=0.0, bar_style='info', description='Progress:', layout=Layout(height='25px', width='50%'),…"
      ]
     },
     "metadata": {},
     "output_type": "display_data"
    }
   ],
   "source": [
    "save_name = \"/Data/ComplaintStats\"\n",
    "# combine the complaints dataset into a single partition, and save it to the \n",
    "# ComplaintStats folder in the S3 bucket where we are storing complaints data\n",
    "complaints.repartition(1).write.json(input_bucket + save_name)\n"
   ]
  }
 ],
 "metadata": {
  "kernelspec": {
   "display_name": "Python 3",
   "language": "python",
   "name": "python3"
  },
  "language_info": {
   "codemirror_mode": {
    "name": "ipython",
    "version": 3
   },
   "file_extension": ".py",
   "mimetype": "text/x-python",
   "name": "python",
   "nbconvert_exporter": "python",
   "pygments_lexer": "ipython3",
   "version": "3.7.4"
  }
 },
 "nbformat": 4,
 "nbformat_minor": 4
}
